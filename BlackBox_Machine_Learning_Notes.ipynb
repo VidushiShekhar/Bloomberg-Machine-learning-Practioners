{
  "nbformat": 4,
  "nbformat_minor": 0,
  "metadata": {
    "colab": {
      "name": "BlackBox Machine Learning Notes.ipynb",
      "provenance": [],
      "collapsed_sections": [],
      "authorship_tag": "ABX9TyP8VFPdQgGCyJlpGW4LWmMa",
      "include_colab_link": true
    },
    "kernelspec": {
      "name": "python3",
      "display_name": "Python 3"
    },
    "language_info": {
      "name": "python"
    }
  },
  "cells": [
    {
      "cell_type": "markdown",
      "metadata": {
        "id": "view-in-github",
        "colab_type": "text"
      },
      "source": [
        "<a href=\"https://colab.research.google.com/github/VidushiShekhar/Bloomberg-Machine-learning-Practioners/blob/master/BlackBox_Machine_Learning_Notes.ipynb\" target=\"_parent\"><img src=\"https://colab.research.google.com/assets/colab-badge.svg\" alt=\"Open In Colab\"/></a>"
      ]
    },
    {
      "cell_type": "markdown",
      "source": [
        "<h1>Bloomberg Foundation of Machine Learning </h1>\n",
        "<h3>To be machine learning Practioner</h3>\n",
        " Black Box Machine Learning refers to the the process ofpracticing ML without getting into great details just with the help of machine learning library.\n",
        "  "
      ],
      "metadata": {
        "id": "-_REj7XCNoqT"
      }
    },
    {
      "cell_type": "markdown",
      "source": [
        "What machine learning is for?\n",
        "\n",
        "Binary Classification: eg: detecting spam in emails\n",
        "Multiclass Classification: eg: Medical Diagnosis multiple output is possible.\n",
        "Soft Classification:Also called Probabilistic Classification\n",
        "given probability of the event possible\n",
        "\n",
        "\n"
      ],
      "metadata": {
        "id": "JCk4lthOPXHj"
      }
    },
    {
      "cell_type": "markdown",
      "source": [
        "Ex: Predicting a stock Price:\n",
        "to produce continous variable.CAn be as simple as linear regression or can be complicated.\n",
        "\n"
      ],
      "metadata": {
        "id": "pAoJGBzeQXmO"
      }
    },
    {
      "cell_type": "markdown",
      "source": [
        "Machine learning is not about taking real life expert details into a from of algorithm with if else statement this is not possible because the data are variables and keep changing example stock market and there is not hard set rule for it. \n",
        "So we try not to reverse engineer the expert,s decision process.\n",
        "We try to make the machine learn from its own.\n",
        "Learning from training data is called supervised learning.\n",
        "\n"
      ],
      "metadata": {
        "id": "Sd-Q0dtkRO5z"
      }
    },
    {
      "cell_type": "markdown",
      "source": [
        "Raw inputs types:\n",
        "\n",
        "Variable length time series\n",
        "Image Files\n",
        "Text documents\n",
        "Variable Length time series \n",
        "Sound Recordings\n",
        "DNA sequences\n",
        "\n",
        "\n",
        "\n",
        "\n",
        "\n"
      ],
      "metadata": {
        "id": "RDugoRWGVLL3"
      }
    },
    {
      "cell_type": "markdown",
      "source": [
        "The computer likes woring with array this raw data are converted into array the process is called ***Featurization or feature extraction.***"
      ],
      "metadata": {
        "id": "3BcFpry_V7E5"
      }
    },
    {
      "cell_type": "markdown",
      "source": [
        "Basic terms like:\n",
        "dummy encoding ,one hot encoding, categorical variable, label Data."
      ],
      "metadata": {
        "id": "7HVafLW4WxK3"
      }
    },
    {
      "cell_type": "markdown",
      "source": [
        "A ***loss function ***scores how far off a prediction is from the desired \"Target\" output.\n",
        "\n",
        "Classification Loss or 0/1 loss\n",
        "loss is 1 i prediction is wrong\n",
        "loss is 0 if prediction is correct\n"
      ],
      "metadata": {
        "id": "IxnfLT_EYTm1"
      }
    },
    {
      "cell_type": "markdown",
      "source": [
        "Square Loss\n",
        "Loss=(predicted-target)^2\n"
      ],
      "metadata": {
        "id": "9Sr1-j5ZYyzT"
      }
    },
    {
      "cell_type": "markdown",
      "source": [
        "<h2>Nonstationary</h2>\n",
        "Nonstationary: when the thing your modeling changes over time.\n",
        "\n",
        "Covariate shift: input distribution changed between training and deployment.\n",
        "\n",
        "(covariate is another name for input feature)\n",
        "\n",
        "concept drift: corect output changes for a particular input.\n",
        "like in winter we wear jumpers in summer we wear shorts (in building a recommender system)\n",
        "\n",
        "K fold cross validation we divide the data into k different sets."
      ],
      "metadata": {
        "id": "pRmJ2ajsZF12"
      }
    },
    {
      "cell_type": "markdown",
      "source": [
        "split data is into train set and validation set: validation set is used on testing set."
      ],
      "metadata": {
        "id": "Bm_MH5wnxf6v"
      }
    },
    {
      "cell_type": "markdown",
      "source": [
        "Sample bias: mismatch in deploymentand test data eg: stock forcasting models.\n"
      ],
      "metadata": {
        "id": "C7haJe-9ytzZ"
      }
    },
    {
      "cell_type": "markdown",
      "source": [
        "Machine Learning Workflow\n",
        "Split data into train validation and test set.\n",
        "Repeat until happy with preformance  of the validation set\n",
        "\n",
        "\n",
        "\n",
        "\n",
        "this above include:\n",
        "\n",
        "feature extraction\n",
        "\n",
        "chossing ML algorithm\n",
        "\n",
        "Train ML model with various hyperparameter settings\n",
        "\n",
        "Evaluate predictition functions on validation sets\n",
        "\n",
        "Retain model on (train+ validation)\n",
        "\n",
        "evaluate performance on test Set(repeat this number to product manager)"
      ],
      "metadata": {
        "id": "mByMOJ2uzJFZ"
      }
    },
    {
      "cell_type": "markdown",
      "source": [
        ""
      ],
      "metadata": {
        "id": "aRurAszk-UQI"
      }
    }
  ]
}